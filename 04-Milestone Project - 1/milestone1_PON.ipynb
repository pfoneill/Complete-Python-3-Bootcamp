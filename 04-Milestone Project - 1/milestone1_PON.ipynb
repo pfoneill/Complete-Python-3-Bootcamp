{
 "cells": [
  {
   "cell_type": "code",
   "execution_count": 11,
   "metadata": {},
   "outputs": [],
   "source": [
    "def choose_marker():\n",
    "    p1 = input(\"Player 1: Choose 'x' or 'o'\").lower()\n",
    "    if p1 == 'x':\n",
    "        p2 = 'o'\n",
    "    elif p1 == 'o':\n",
    "        p2 = 'x'\n",
    "    else:\n",
    "        print(f\"{p1} is not an 'x' or an 'o'\")\n",
    "        p1 = 'x'\n",
    "        p2 = 'o'\n",
    "        print('Autoset')\n",
    "    return {'Player 1':p1,'Player 2':p2}"
   ]
  },
  {
   "cell_type": "code",
   "execution_count": 15,
   "metadata": {},
   "outputs": [
    {
     "output_type": "stream",
     "name": "stdout",
     "text": "Player 1\nPlayer 2\n"
    }
   ],
   "source": [
    "p = choose_marker()\n",
    "for player in p.keys():\n",
    "    print(player)"
   ]
  },
  {
   "cell_type": "code",
   "execution_count": 10,
   "metadata": {},
   "outputs": [],
   "source": [
    "def draw_board(player, pos, board):\n",
    "    '''\n",
    "    Inputs: player, new position, and current board\n",
    "    Ouputs: new board\n",
    "    pos==0 returns empty board, pos==10 returns board with markers\n",
    "    '''\n",
    "    empty = \"\\n   |   |   \\n-----------\\n   |   |   \\n-----------\\n   |   |   \"\n",
    "    positions = \"\\n 7 | 8 | 9 \\n-----------\\n 4 | 5 | 6 \\n-----------\\n 1 | 2 | 3 \"\n",
    "\n",
    "    if board == '':\n",
    "        board = empty\n",
    "\n",
    "    if pos == 0:\n",
    "        # empty board\n",
    "        return empty\n",
    "    elif pos == 10:\n",
    "        # display positions on the board\n",
    "        return positions\n",
    "    elif pos in range(1,10):\n",
    "        spltidx = positions.index(str(pos))\n",
    "        splitbrd = [board[:spltidx],board[spltidx+1:]]\n",
    "        board = player.join(splitbrd)\n",
    "        return board"
   ]
  },
  {
   "cell_type": "code",
   "execution_count": 6,
   "metadata": {},
   "outputs": [
    {
     "output_type": "stream",
     "name": "stdout",
     "text": "\n x |   |   \n-----------\n   |   |   \n-----------\n   |   |   \n"
    }
   ],
   "source": [
    "print(draw_board('x',7,''))"
   ]
  },
  {
   "cell_type": "code",
   "execution_count": 22,
   "metadata": {},
   "outputs": [],
   "source": [
    "def winner(board):\n",
    "    positions = \"\\n 7 | 8 | 9 \\n-----------\\n 4 | 5 | 6 \\n-----------\\n 1 | 2 | 3 \"\n",
    "    win_combinations = [[1,2,3],[4,5,6],[7,8,9],[1,4,7],[2,5,8],[3,6,9],[3,5,7],[1,5,9]]\n",
    "\n",
    "    # build array of position indices in string\n",
    "    pos = []\n",
    "    for i in range(1,10):\n",
    "        pos.append(positions.index(str(i)))\n",
    "\n",
    "    # replace element in win combinations with the corresponding string element in board\n",
    "    for i, combo in enumerate(win_combinations):\n",
    "        for j in range(0,len(combo)):\n",
    "            win_combinations[i][j] = board[pos[win_combinations[i][j]-1]]\n",
    "\n",
    "    # search for exes or ohs in win_combinations\n",
    "    exes = ['x','x','x']\n",
    "    ohs = ['o','o','o']\n",
    "    if exes in win_combinations:\n",
    "        win = (True, 'x')\n",
    "    elif ohs in win_combinations:\n",
    "        win = (True, 'o')\n",
    "    else: win = (False, '')\n",
    "    return win"
   ]
  },
  {
   "cell_type": "code",
   "execution_count": 25,
   "metadata": {},
   "outputs": [
    {
     "output_type": "stream",
     "name": "stdout",
     "text": "\n 7 | 8 | 9 \n-----------\n 4 | 5 | 6 \n-----------\n 1 | 2 | 3 \nPlayer 1: make your move...\n\n   |   |   \n-----------\n   | x |   \n-----------\n   |   |   \nPlayer 2: make your move...\n\n   |   |   \n-----------\n   | x |   \n-----------\n o |   |   \nPlayer 1: make your move...\n\n   |   |   \n-----------\n   | x | x \n-----------\n o |   |   \nPlayer 2: make your move...\n\n   |   |   \n-----------\n o | x | x \n-----------\n o |   |   \nPlayer 1: make your move...\n\n   |   |   \n-----------\n o | x | x \n-----------\n o | x |   \nPlayer 2: make your move...\n\n o |   |   \n-----------\n o | x | x \n-----------\n o | x |   \no wins\nPlayer 1: make your move...\n\n o |   |   \n-----------\n o | x | x \n-----------\n o | x |   \no wins\nPlayer 2: make your move...\n\n o |   |   \n-----------\n o | x | x \n-----------\n o | o |   \no wins\nPlayer 1: make your move...\n"
    },
    {
     "output_type": "error",
     "ename": "ValueError",
     "evalue": "invalid literal for int() with base 10: ''",
     "traceback": [
      "\u001b[1;31m---------------------------------------------------------------------------\u001b[0m",
      "\u001b[1;31mValueError\u001b[0m                                Traceback (most recent call last)",
      "\u001b[1;32m<ipython-input-25-8f99cb39f79f>\u001b[0m in \u001b[0;36m<module>\u001b[1;34m\u001b[0m\n\u001b[0;32m     17\u001b[0m                 \u001b[1;32mtry\u001b[0m\u001b[1;33m:\u001b[0m\u001b[1;33m\u001b[0m\u001b[1;33m\u001b[0m\u001b[0m\n\u001b[0;32m     18\u001b[0m                     \u001b[0mprint\u001b[0m\u001b[1;33m(\u001b[0m\u001b[1;34mf'{player}: make your move...'\u001b[0m\u001b[1;33m)\u001b[0m\u001b[1;33m\u001b[0m\u001b[1;33m\u001b[0m\u001b[0m\n\u001b[1;32m---> 19\u001b[1;33m                     \u001b[0mpos\u001b[0m \u001b[1;33m=\u001b[0m \u001b[0mint\u001b[0m\u001b[1;33m(\u001b[0m\u001b[0minput\u001b[0m\u001b[1;33m(\u001b[0m\u001b[1;34mf'{player}: make your move'\u001b[0m\u001b[1;33m)\u001b[0m\u001b[1;33m)\u001b[0m\u001b[1;33m\u001b[0m\u001b[1;33m\u001b[0m\u001b[0m\n\u001b[0m\u001b[0;32m     20\u001b[0m                     \u001b[0mboard\u001b[0m \u001b[1;33m=\u001b[0m \u001b[0mdraw_board\u001b[0m\u001b[1;33m(\u001b[0m\u001b[0mp\u001b[0m\u001b[1;33m[\u001b[0m\u001b[0mplayer\u001b[0m\u001b[1;33m]\u001b[0m\u001b[1;33m,\u001b[0m\u001b[0mpos\u001b[0m\u001b[1;33m,\u001b[0m\u001b[0mboard\u001b[0m\u001b[1;33m)\u001b[0m\u001b[1;33m\u001b[0m\u001b[1;33m\u001b[0m\u001b[0m\n\u001b[0;32m     21\u001b[0m                     \u001b[0mprint\u001b[0m\u001b[1;33m(\u001b[0m\u001b[0mboard\u001b[0m\u001b[1;33m)\u001b[0m\u001b[1;33m\u001b[0m\u001b[1;33m\u001b[0m\u001b[0m\n",
      "\u001b[1;31mValueError\u001b[0m: invalid literal for int() with base 10: ''"
     ]
    }
   ],
   "source": [
    "# main\n",
    "play = True\n",
    "\n",
    "while play:\n",
    "    try:\n",
    "        play = input('Would you like to play TICTACTOE? (y/n)') == 'y'\n",
    "        if not play: break\n",
    "        # choose players\n",
    "        p = choose_marker()\n",
    "        # draw board with markers\n",
    "        print(draw_board('',10,''))\n",
    "        board = ''\n",
    "\n",
    "        for move in range(1,6):\n",
    "            for player in p.keys():\n",
    "                try:\n",
    "                    print(f'{player}: make your move...')\n",
    "                    pos = int(input(f'{player}: make your move'))\n",
    "                    board = draw_board(p[player],pos,board)\n",
    "                    print(board)\n",
    "                    win = winner(board)\n",
    "                    if win[0]:\n",
    "                        print(f'{win[1]} wins')\n",
    "                        break\n",
    "                except KeyboardInterrupt:\n",
    "                    break\n",
    "    except KeyboardInterrupt:\n",
    "        break\n",
    "print('Thank you for playing')\n",
    "print('Goodbye')"
   ]
  },
  {
   "cell_type": "code",
   "execution_count": 33,
   "metadata": {},
   "outputs": [
    {
     "output_type": "execute_result",
     "data": {
      "text/plain": "(True, 'x')"
     },
     "metadata": {},
     "execution_count": 33
    }
   ],
   "source": [
    "positions = \"\\n 7 | 8 | 9 \\n-----------\\n 4 | 5 | 6 \\n-----------\\n 1 | 2 | 3 \"\n",
    "board = \"\\n x |   |   \\n-----------\\n   | x |   \\n-----------\\n   |   | x \"\n",
    "win_combinations = [[1,2,3],[4,5,6],[7,8,9],[1,4,7],[2,5,8],[3,6,9],[3,5,7],[1,5,9]]\n",
    "\n",
    "# build array of position indices in string\n",
    "pos = []\n",
    "for i in range(1,10):\n",
    "    pos.append(positions.index(str(i)))\n",
    "\n",
    "# replace element in win combinations with the corresponding string element in board\n",
    "for i, combo in enumerate(win_combinations):\n",
    "    for j in range(0,len(combo)):\n",
    "        win_combinations[i][j] = board[pos[win_combinations[i][j]-1]]\n",
    "\n",
    "# search for exes or ohs in win_combinations\n",
    "exes = ['x','x','x']\n",
    "ohs = ['o','o','o']\n",
    "if exes in win_combinations:\n",
    "    win = (True, 'x')\n",
    "elif ohs in win_combinations:\n",
    "    win = (True, 'o')\n",
    "else: win = (False, '')\n",
    "win"
   ]
  }
 ],
 "metadata": {
  "language_info": {
   "codemirror_mode": {
    "name": "ipython",
    "version": 3
   },
   "file_extension": ".py",
   "mimetype": "text/x-python",
   "name": "python",
   "nbconvert_exporter": "python",
   "pygments_lexer": "ipython3",
   "version": "3.7.3-final"
  },
  "orig_nbformat": 2,
  "kernelspec": {
   "name": "python3",
   "display_name": "Python 3"
  }
 },
 "nbformat": 4,
 "nbformat_minor": 2
}